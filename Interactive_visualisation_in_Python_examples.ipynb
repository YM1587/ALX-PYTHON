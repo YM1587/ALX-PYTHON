{
  "cells": [
    {
      "cell_type": "markdown",
      "metadata": {
        "id": "view-in-github",
        "colab_type": "text"
      },
      "source": [
        "<a href=\"https://colab.research.google.com/github/YM1587/ALX-PYTHON/blob/main/Interactive_visualisation_in_Python_examples.ipynb\" target=\"_parent\"><img src=\"https://colab.research.google.com/assets/colab-badge.svg\" alt=\"Open In Colab\"/></a>"
      ]
    },
    {
      "cell_type": "markdown",
      "metadata": {
        "id": "FJ70WVi-NjSV"
      },
      "source": [
        "<div align=\"center\" style=\" font-size: 80%; text-align: center; margin: 0 auto\">\n",
        "<img src=\"https://raw.githubusercontent.com/Explore-AI/Pictures/master/Python-Notebook-Banners/Examples.png\"  style=\"display: block; margin-left: auto; margin-right: auto;\";/>\n",
        "</div>\n",
        "\n",
        "# Examples: Interactive visualisation in Python\n",
        "\n",
        "\n",
        "\n",
        "In this train, we will focus on creating unique and interactive visualisations. We will learn how to make our code block outputs interactive for the end user.\n",
        "\n",
        "> ⚠️ **Note:** An active internet connection is needed to complete the exercises within this notebook.\n",
        "\n",
        "> ⚠️ **Note:** This exercise works best when executed in a Jupyter notebook."
      ]
    },
    {
      "cell_type": "markdown",
      "metadata": {
        "id": "ZnCKYxP1xi-7"
      },
      "source": [
        "## Learning objectives\n",
        "By the end of this train, you should be able to:\n",
        "* Create advanced custom visualisations in Python.\n",
        "* Create interactive visualisations in a Jupyter notebook.\n"
      ]
    },
    {
      "cell_type": "markdown",
      "metadata": {
        "id": "hTEztyAvNjSh"
      },
      "source": [
        "## Introduction\n",
        "\n",
        "Sometimes we require interaction in our Jupyter notebooks rather than a PowerBI dashboard. A potential reason would be to employ more sophisticated technology to meet typical business intelligence use cases. Traditional BI tools are ideal for creating dashboards created from SQL or CSV data. However, when we try to display information created by more sophisticated logic, we often fall short.\n",
        "\n",
        "With interactive widgets in a notebook, we can leverage the full power of Python to express calculations and build visualisations while exposing \"our logic\" to the end user, allowing them to modify aspects of the visualisation. We may either add a few interactive controls and plots to notebooks or build completely functional applications and interactive dashboards. Both can be created with components from the built-in core widgets, such as `buttons`, `sliders`, and `dropdowns`, or with the rich ecosystem of custom widget libraries based on the Jupyter widgets framework, such as interactive maps with `ipyleaflet` or `2-D plots` with `bqplot`."
      ]
    },
    {
      "cell_type": "markdown",
      "metadata": {
        "id": "swNz-w4xNjSl"
      },
      "source": [
        "## Getting the notebook ready\n",
        "Let's ensure we have the relevant packages installed.\n",
        "\n",
        "### Step 1: Install the relevant packages"
      ]
    },
    {
      "cell_type": "code",
      "execution_count": 19,
      "metadata": {
        "colab": {
          "base_uri": "https://localhost:8080/"
        },
        "id": "dx9rdFiexi_C",
        "outputId": "d9c97beb-8c67-435c-dc7f-79aef7315e0e"
      },
      "outputs": [
        {
          "output_type": "stream",
          "name": "stdout",
          "text": [
            "Requirement already satisfied: scipy in /usr/local/lib/python3.12/dist-packages (1.16.2)\n",
            "Requirement already satisfied: numpy<2.6,>=1.25.2 in /usr/local/lib/python3.12/dist-packages (from scipy) (2.0.2)\n"
          ]
        }
      ],
      "source": [
        "pip install scipy"
      ]
    },
    {
      "cell_type": "code",
      "execution_count": null,
      "metadata": {
        "id": "0ce0X3Kexi_H"
      },
      "outputs": [],
      "source": [
        "pip install ipywidgets\n"
      ]
    },
    {
      "cell_type": "code",
      "execution_count": null,
      "metadata": {
        "id": "OSyIkEZqxi_J"
      },
      "outputs": [],
      "source": [
        "pip install chart-studio"
      ]
    },
    {
      "cell_type": "code",
      "execution_count": null,
      "metadata": {
        "id": "6UEmtIZAxi_K"
      },
      "outputs": [],
      "source": [
        "pip install pyarrow"
      ]
    },
    {
      "cell_type": "code",
      "execution_count": null,
      "metadata": {
        "id": "nG692FDfxi_L"
      },
      "outputs": [],
      "source": [
        "pip install cufflinks"
      ]
    },
    {
      "cell_type": "markdown",
      "metadata": {
        "id": "NQVmxuCeNjS2"
      },
      "source": [
        "### Step 2: Enable interactive visualisations in Jupyter"
      ]
    },
    {
      "cell_type": "code",
      "execution_count": null,
      "metadata": {
        "id": "-jAPU3kHNjS6"
      },
      "outputs": [],
      "source": [
        "!jupyter nbextension enable --py widgetsnbextension"
      ]
    },
    {
      "cell_type": "markdown",
      "metadata": {
        "id": "4ngYm3JQNjTD"
      },
      "source": [
        "### Step 3: Import the required packages"
      ]
    },
    {
      "cell_type": "code",
      "execution_count": 20,
      "metadata": {
        "colab": {
          "base_uri": "https://localhost:8080/",
          "height": 17
        },
        "id": "nqU_FtjhNjTF",
        "outputId": "2b191e4f-956f-4e9a-9778-18857ce33080"
      },
      "outputs": [
        {
          "output_type": "display_data",
          "data": {
            "text/html": [
              "        <script type=\"text/javascript\">\n",
              "        window.PlotlyConfig = {MathJaxConfig: 'local'};\n",
              "        if (window.MathJax && window.MathJax.Hub && window.MathJax.Hub.Config) {window.MathJax.Hub.Config({SVG: {font: \"STIX-Web\"}});}\n",
              "        if (typeof require !== 'undefined') {\n",
              "        require.undef(\"plotly\");\n",
              "        requirejs.config({\n",
              "            paths: {\n",
              "                'plotly': ['https://cdn.plot.ly/plotly-2.35.2.min']\n",
              "            }\n",
              "        });\n",
              "        require(['plotly'], function(Plotly) {\n",
              "            window._Plotly = Plotly;\n",
              "        });\n",
              "        }\n",
              "        </script>\n",
              "        "
            ]
          },
          "metadata": {}
        },
        {
          "output_type": "display_data",
          "data": {
            "text/html": [
              "        <script type=\"text/javascript\">\n",
              "        window.PlotlyConfig = {MathJaxConfig: 'local'};\n",
              "        if (window.MathJax && window.MathJax.Hub && window.MathJax.Hub.Config) {window.MathJax.Hub.Config({SVG: {font: \"STIX-Web\"}});}\n",
              "        if (typeof require !== 'undefined') {\n",
              "        require.undef(\"plotly\");\n",
              "        requirejs.config({\n",
              "            paths: {\n",
              "                'plotly': ['https://cdn.plot.ly/plotly-2.35.2.min']\n",
              "            }\n",
              "        });\n",
              "        require(['plotly'], function(Plotly) {\n",
              "            window._Plotly = Plotly;\n",
              "        });\n",
              "        }\n",
              "        </script>\n",
              "        "
            ]
          },
          "metadata": {}
        }
      ],
      "source": [
        "# Standard data science helpers\n",
        "import numpy as np\n",
        "import pandas as pd\n",
        "import scipy\n",
        "\n",
        "# Instantiate the Plotly charting library.\n",
        "import chart_studio.plotly as py\n",
        "import plotly.graph_objs as go\n",
        "import plotly.express as px\n",
        "# We use plotly.offline as this allows us to create interactive\n",
        "# visualisations without the use of an internet connection,\n",
        "# making our notebook more distributable to others.\n",
        "from plotly.offline import iplot, init_notebook_mode\n",
        "init_notebook_mode(connected=True)\n",
        "\n",
        "# The Cufflinks library allows us to directly bind\n",
        "# Pandas DataFrames to Plotly charts.\n",
        "import cufflinks as cf\n",
        "# Once again, we use the Cufflinks library in offline mode.\n",
        "cf.go_offline(connected=True)\n",
        "cf.set_config_file(colorscale='plotly', world_readable=True)\n",
        "\n",
        "# Extra options. We use these to make our interactive\n",
        "# visualisations more aesthetically appealing.\n",
        "from IPython.core.display import HTML\n",
        "pd.options.display.max_rows = 30\n",
        "pd.options.display.max_columns = 25\n",
        "\n",
        "# Show all code cells outputs.\n",
        "from IPython.core.interactiveshell import InteractiveShell\n",
        "InteractiveShell.ast_node_interactivity = 'all'"
      ]
    },
    {
      "cell_type": "markdown",
      "metadata": {
        "id": "Cqc5MtRRNjTR"
      },
      "source": [
        "### Step 4: Read in the data"
      ]
    },
    {
      "cell_type": "markdown",
      "metadata": {
        "id": "I37DIgd5NjTT"
      },
      "source": [
        "For this project, we'll work with some stats data from `medium.com`."
      ]
    },
    {
      "cell_type": "code",
      "execution_count": null,
      "metadata": {
        "id": "xXI8yjCNNjTX"
      },
      "outputs": [],
      "source": [
        "df = pd.read_parquet('https://github.com/WillKoehrsen/Data-Analysis/blob/master/medium/data/medium_data_2019_01_26?raw=true')\n",
        "df.head()"
      ]
    },
    {
      "cell_type": "markdown",
      "metadata": {
        "id": "mO0S7aN9xi_U"
      },
      "source": [
        "Let's have a quick descriptive look at the data we've just pulled:"
      ]
    },
    {
      "cell_type": "code",
      "execution_count": null,
      "metadata": {
        "id": "Zi9VnROCNjTd",
        "scrolled": true
      },
      "outputs": [],
      "source": [
        "df.describe()"
      ]
    },
    {
      "cell_type": "markdown",
      "metadata": {
        "id": "sioLwvDDNjTm"
      },
      "source": [
        "## Interactive visualisations\n",
        "We'll now work through a few examples of interactive visualisations. We'll start with a simple filter to see how the interface works."
      ]
    },
    {
      "cell_type": "markdown",
      "metadata": {
        "id": "jDXpCHzkKm08"
      },
      "source": [
        "### Example 1"
      ]
    },
    {
      "cell_type": "code",
      "execution_count": null,
      "metadata": {
        "id": "27JyA1OeNjTp"
      },
      "outputs": [],
      "source": [
        "from ipywidgets import interact, interact_manual, widgets"
      ]
    },
    {
      "cell_type": "markdown",
      "metadata": {
        "id": "ctd60lPhNjTx"
      },
      "source": [
        "To make a function interactive, we need to use the ```@interact``` decorator.\n",
        "\n",
        "But wait, what's a decorator?\n",
        "\n",
        "Simply put, a decorator is a Python function that wraps around another declared function to enhance or augment its behaviour, like putting a ribbon around a present to make it look prettier as a gift. We won't go into the semantics of how to _create_ a decorator, but you can easily spot them above a function with the form ``@decorator_name``.\n",
        "For more information, see: https://realpython.com/primer-on-python-decorators/\n",
        "\n",
        "Consider the code below."
      ]
    },
    {
      "cell_type": "code",
      "execution_count": null,
      "metadata": {
        "id": "PianhhDsNjT0"
      },
      "outputs": [],
      "source": [
        "@interact\n",
        "def show_articles_more_than(column='claps', x=5000):\n",
        "    display(HTML(f'<h4>Showing articles with more than {x} {column}<h4>'))\n",
        "    display(df.loc[df[column] > x, ['title', 'claps', 'published_date', 'read_time', 'tags', 'views', 'reads']])"
      ]
    },
    {
      "cell_type": "markdown",
      "metadata": {
        "id": "qxCG6ow4NjT8"
      },
      "source": [
        "The ```@interact``` decorator automatically inferred that we wanted a text box for the column and an interactive slider. This decorator makes it incredibly simple to add interactivity."
      ]
    },
    {
      "cell_type": "markdown",
      "metadata": {
        "id": "A6hQ7E40Ky4j"
      },
      "source": [
        "### Example 2"
      ]
    },
    {
      "cell_type": "markdown",
      "metadata": {
        "id": "ntkHAlu4NjUG"
      },
      "source": [
        "Now we will add a dropdown menu to select which column to filter on while simultaneously adding limits for x.\n",
        "\n",
        "A dropdown menu can be useful when we need to enforce constraints on the interaction."
      ]
    },
    {
      "cell_type": "code",
      "execution_count": null,
      "metadata": {
        "id": "-qOvFkvJNjT-",
        "scrolled": true
      },
      "outputs": [],
      "source": [
        "@interact\n",
        "def show_titles_more_than(x=(10, 50000, 10),\n",
        "                          column=['read_time', 'views', 'reads']):\n",
        "    display(HTML(f'<h4>Showing articles with more than {x} {column}<h4>'))\n",
        "    display(df.loc[df[column] > x, ['title', 'published_date', 'read_time', 'tags', 'views', 'reads']])"
      ]
    },
    {
      "cell_type": "markdown",
      "metadata": {
        "id": "WyQ7V3hDK4O9"
      },
      "source": [
        "### Example 3"
      ]
    },
    {
      "cell_type": "markdown",
      "metadata": {
        "id": "oUyIhWZ4NjUP"
      },
      "source": [
        "Moving on to more sophisticated data relationships that may be interactively represented, we construct a widget that quickly finds the correlation between two columns in the dataset."
      ]
    },
    {
      "cell_type": "code",
      "execution_count": null,
      "metadata": {
        "id": "WMBFt-PpNjUR"
      },
      "outputs": [],
      "source": [
        "@interact\n",
        "def correlations(column1=list(df.select_dtypes('number').columns),\n",
        "                 column2=list(df.select_dtypes('number').columns)):\n",
        "    print(f\"Correlation: {df[column1].corr(df[column2])}\")"
      ]
    },
    {
      "cell_type": "markdown",
      "metadata": {
        "id": "MEo8ObX3xi_a"
      },
      "source": [
        "Within the above code example, we need to specify Pandas columns that are of a numeric type using the code `df.select_dtypes('number')` because the correlation statistic is only defined between numeric values."
      ]
    },
    {
      "cell_type": "markdown",
      "metadata": {
        "id": "mZmS-8NJQSfY"
      },
      "source": [
        "### Example 4"
      ]
    },
    {
      "cell_type": "markdown",
      "metadata": {
        "id": "VoO_HdhzNjUX"
      },
      "source": [
        "We can use the same basic approach to create interactive widgets for plots. This approach allows us to expand the capabilities of the powerful `plotly` visualisation library."
      ]
    },
    {
      "cell_type": "code",
      "execution_count": null,
      "metadata": {
        "id": "C4WtQa8rNjUa"
      },
      "outputs": [],
      "source": [
        "@interact\n",
        "def scatter_plot(x=list(df.select_dtypes('number').columns),\n",
        "                 y=list(df.select_dtypes('number').columns)[1:]):\n",
        "    if x == y:\n",
        "        print(f\"Please select separate variables for X and Y\")\n",
        "    else:\n",
        "        df.iplot(kind='scatter', x=x, y=y, mode='markers',\n",
        "                 xTitle=x.title(), yTitle=y.title(), title=f'{y.title()} vs {x.title()}')\n",
        "        ## If you are using Google Colab, comment out the above line of code and uncomment the lines below\n",
        "        fig = px.scatter(df, x=x, y=y, title=f'{y.title()} vs {x.title()}')\n",
        "        fig.show(renderer=\"colab\")"
      ]
    },
    {
      "cell_type": "code",
      "source": [
        "import plotly.express as px\n",
        "from ipywidgets import interact\n",
        "\n",
        "@interact\n",
        "def scatter_plot(x=list(df.select_dtypes('number').columns),\n",
        "                 y=list(df.select_dtypes('number').columns)[1:]):\n",
        "    if x == y:\n",
        "        print(f\"⚠️ Please select separate variables for X and Y\")\n",
        "    else:\n",
        "        fig = px.scatter(\n",
        "            df, x=x, y=y,\n",
        "            title=f'{y.title()} vs {x.title()}'\n",
        "        )\n",
        "        fig.show(renderer=\"colab\")\n"
      ],
      "metadata": {
        "id": "85Q_IPGFeo6e"
      },
      "execution_count": null,
      "outputs": []
    },
    {
      "cell_type": "code",
      "source": [
        "from ipywidgets import interact\n",
        "import plotly.express as px\n",
        "\n",
        "@interact\n",
        "def scatter_plot(x=list(df.select_dtypes('number').columns),\n",
        "                 y=list(df.select_dtypes('number').columns)[1:]):\n",
        "    if x == y:\n",
        "        print(f\"Please select separate variables for X and Y\")\n",
        "    else:\n",
        "        fig = px.scatter(df, x=x, y=y,\n",
        "                         title=f'{y.title()} vs {x.title()}')\n",
        "        fig.show(renderer=\"colab\")\n"
      ],
      "metadata": {
        "id": "slFBajkFe92B"
      },
      "execution_count": null,
      "outputs": []
    },
    {
      "cell_type": "markdown",
      "metadata": {
        "id": "SowggjiJwEY0"
      },
      "source": [
        "### Example 5"
      ]
    },
    {
      "cell_type": "markdown",
      "metadata": {
        "id": "CIFTgAz-xi_e"
      },
      "source": [
        "In a similar fashion to the previous example, we can create a customisable heatmap of correlations:"
      ]
    },
    {
      "cell_type": "code",
      "execution_count": null,
      "metadata": {
        "id": "WLPhgAfXNjUo"
      },
      "outputs": [],
      "source": [
        "cscales = ['Greys', 'YlGnBu', 'Greens', 'YlOrRd', 'Bluered', 'RdBu',\n",
        "            'Reds', 'Blues', 'Picnic', 'Rainbow', 'Portland', 'Jet',\n",
        "            'Hot', 'Blackbody', 'Earth', 'Electric', 'Viridis', 'Cividis']\n",
        "\n",
        "# We use the Figure Factory module of Plotly, which\n",
        "# defines many unique and powerful plots to be used\n",
        "# in Python.\n",
        "# For more info, see: https://plot.ly/python/figure-factory-subplots/\n",
        "import plotly.figure_factory as ff\n",
        "\n",
        "corrs = df.corr(numeric_only=True)\n",
        "\n",
        "@interact\n",
        "def plot_corrs(colorscale=cscales):\n",
        "    figure = ff.create_annotated_heatmap(z = corrs.round(2).values,\n",
        "                                     x =list(corrs.columns),\n",
        "                                     y=list(corrs.index),\n",
        "                                     colorscale=colorscale,\n",
        "                                     annotation_text=corrs.round(2).values)\n",
        "    #iplot(figure)\n",
        "    ## If you are using Google Colab, comment out the above line of code and uncomment the line below\n",
        "    figure.show(renderer=\"colab\")"
      ]
    },
    {
      "cell_type": "markdown",
      "metadata": {
        "id": "AmxkRXUVLWYJ"
      },
      "source": [
        "### Example 6"
      ]
    },
    {
      "cell_type": "markdown",
      "metadata": {
        "id": "5BgSw0Y3xi_g"
      },
      "source": [
        "Interaction can also be extremely useful when we want to try and view various configurations for a plot that we are trying to produce.\n",
        "\n",
        "The following code allows us to add some options to control the colour scheme of a given Plotly chart. Here we call the `@interact_manual` decorator, which allows us to select multiple variables before our chart is updated."
      ]
    },
    {
      "cell_type": "code",
      "execution_count": null,
      "metadata": {
        "id": "8JiGyFamNjU7"
      },
      "outputs": [],
      "source": [
        "@interact_manual\n",
        "def scatter_plot(x=list(df.select_dtypes('number').columns),\n",
        "                 y=list(df.select_dtypes('number').columns)[1:],\n",
        "                 theme=list(cf.themes.THEMES.keys()),\n",
        "                 colorscale=list(cf.colors._scales_names.keys())):\n",
        "\n",
        "    if x == y:\n",
        "        print(f\"Please select separate variables for X and Y\")\n",
        "    else:\n",
        "        df.iplot(kind='scatter', x=x, y=y, mode='markers',\n",
        "                 xTitle=x.title(), yTitle=y.title(),\n",
        "                 text='title',\n",
        "                 title=f'{y.title()} vs {x.title()}',\n",
        "                theme=theme, colorscale=colorscale)\n",
        "        ## If you are using Google Colab, comment out the above line of code and uncomment the line below\n",
        "        fig = px.scatter(df, x=x, y=y, title=f'{y.title()} vs {x.title()}')\n",
        "        fig.show(renderer=\"colab\")"
      ]
    },
    {
      "cell_type": "markdown",
      "metadata": {
        "id": "p_osdia6OV2G"
      },
      "source": [
        "### Example 7"
      ]
    },
    {
      "cell_type": "markdown",
      "metadata": {
        "id": "vx4psP6FNjVL"
      },
      "source": [
        "The decorator ```@interact``` is not the only way to use widgets.\n",
        "\n",
        "Read through the following example to figure out how else we can use widgets."
      ]
    },
    {
      "cell_type": "code",
      "execution_count": null,
      "metadata": {
        "id": "k_7lLT0jNjVM"
      },
      "outputs": [],
      "source": [
        "df.set_index('published_date', inplace=True)"
      ]
    },
    {
      "cell_type": "code",
      "execution_count": null,
      "metadata": {
        "id": "pDihhzPoNjVR"
      },
      "outputs": [],
      "source": [
        "def print_articles_published(start_date, end_date):\n",
        "    start_date = pd.Timestamp(start_date)\n",
        "    end_date = pd.Timestamp(end_date)\n",
        "    stat_df = df.loc[(df.index >= start_date) & (df.index <= end_date)].copy()\n",
        "    total_words = stat_df['word_count'].sum()\n",
        "    total_read_time = stat_df['read_time'].sum()\n",
        "    num_articles = len(stat_df)\n",
        "    print(f'According to our dataset, published by Medium.com, there are {num_articles} articles between {start_date.date()} and {end_date.date()}.')\n",
        "    print(f'These articles totalled {total_words:,} words and {total_read_time/60:.2f} hours to read.')\n",
        "\n",
        "_ = interact(print_articles_published,\n",
        "             start_date=widgets.DatePicker(value=pd.to_datetime('2018-01-01')),\n",
        "             end_date=widgets.DatePicker(value=pd.to_datetime('2019-01-01')))"
      ]
    },
    {
      "cell_type": "markdown",
      "metadata": {
        "id": "Ezl7N2_HOnaJ"
      },
      "source": [
        "### Example 8"
      ]
    },
    {
      "cell_type": "markdown",
      "metadata": {
        "id": "dHR4eu9QNjVY"
      },
      "source": [
        "For our final example, we use the `Dropdown` and `DatePicker` widgets to plot one column cumulatively up to a certain time."
      ]
    },
    {
      "cell_type": "code",
      "execution_count": null,
      "metadata": {
        "id": "eTyJSw94NjVa",
        "scrolled": true
      },
      "outputs": [],
      "source": [
        "def plot_up_to(column, date):\n",
        "    date = pd.Timestamp(date)\n",
        "    plot_df = df.loc[df.index <= date].copy()\n",
        "    plot_df[column].cumsum().iplot(mode='markers+lines',\n",
        "                                   xTitle='published date',\n",
        "                                   yTitle=column,\n",
        "                                  title=f'Cumulative {column.title()} Until {date.date()}')\n",
        "\n",
        "_ = interact(plot_up_to, column=widgets.Dropdown(options=list(df.select_dtypes('number').columns)),\n",
        "             date = widgets.DatePicker(value=pd.to_datetime('2019-01-01')))"
      ]
    },
    {
      "cell_type": "markdown",
      "metadata": {
        "id": "l9E2cGc9NjVf"
      },
      "source": [
        "## Summary"
      ]
    },
    {
      "cell_type": "markdown",
      "metadata": {
        "id": "-4sO_84lNjVh"
      },
      "source": [
        "Jupyter Notebook is a great data exploration and analysis environment. Using tools like notebook extensions and interactive widgets makes our job as data-driven storytellers even more efficient. Widgets are powerful tools that allow us to make our data more interactive and, therefore, more accessible to non-data scientists."
      ]
    },
    {
      "cell_type": "markdown",
      "metadata": {
        "id": "pnXXKWXaxi__"
      },
      "source": [
        "<div align=\"center\" style=\" font-size: 80%; text-align: center; margin: 0 auto\">\n",
        "<img src=\"https://raw.githubusercontent.com/Explore-AI/Pictures/refs/heads/master/ALX_banners/ALX_Navy.png\"  style=\"width:140px\";/>\n",
        "</div>"
      ]
    }
  ],
  "metadata": {
    "colab": {
      "provenance": [],
      "include_colab_link": true
    },
    "kernelspec": {
      "display_name": "Python 3",
      "language": "python",
      "name": "python3"
    },
    "language_info": {
      "codemirror_mode": {
        "name": "ipython",
        "version": 3
      },
      "file_extension": ".py",
      "mimetype": "text/x-python",
      "name": "python",
      "nbconvert_exporter": "python",
      "pygments_lexer": "ipython3",
      "version": "3.11.4"
    },
    "toc": {
      "base_numbering": 1,
      "nav_menu": {},
      "number_sections": true,
      "sideBar": true,
      "skip_h1_title": false,
      "title_cell": "Table of Contents",
      "title_sidebar": "Contents",
      "toc_cell": false,
      "toc_position": {},
      "toc_section_display": true,
      "toc_window_display": false
    },
    "varInspector": {
      "cols": {
        "lenName": 16,
        "lenType": 16,
        "lenVar": 40
      },
      "kernels_config": {
        "python": {
          "delete_cmd_postfix": "",
          "delete_cmd_prefix": "del ",
          "library": "var_list.py",
          "varRefreshCmd": "print(var_dic_list())"
        },
        "r": {
          "delete_cmd_postfix": ") ",
          "delete_cmd_prefix": "rm(",
          "library": "var_list.r",
          "varRefreshCmd": "cat(var_dic_list()) "
        }
      },
      "types_to_exclude": [
        "module",
        "function",
        "builtin_function_or_method",
        "instance",
        "_Feature"
      ],
      "window_display": false
    }
  },
  "nbformat": 4,
  "nbformat_minor": 0
}