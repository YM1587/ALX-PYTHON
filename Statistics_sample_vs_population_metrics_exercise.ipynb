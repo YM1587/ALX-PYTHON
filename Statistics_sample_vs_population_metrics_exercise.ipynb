{
  "cells": [
    {
      "cell_type": "markdown",
      "metadata": {
        "id": "view-in-github",
        "colab_type": "text"
      },
      "source": [
        "<a href=\"https://colab.research.google.com/github/YM1587/ALX-PYTHON/blob/main/Statistics_sample_vs_population_metrics_exercise.ipynb\" target=\"_parent\"><img src=\"https://colab.research.google.com/assets/colab-badge.svg\" alt=\"Open In Colab\"/></a>"
      ]
    },
    {
      "cell_type": "markdown",
      "id": "cd88ea27",
      "metadata": {
        "id": "cd88ea27"
      },
      "source": [
        "<div align=\"center\" style=\" font-size: 80%; text-align: center; margin: 0 auto\">\n",
        "<img src=\"https://raw.githubusercontent.com/Explore-AI/Pictures/master/Python-Notebook-Banners/Exercise.png\"  style=\"display: block; margin-left: auto; margin-right: auto;\";/>\n",
        "</div>"
      ]
    },
    {
      "cell_type": "markdown",
      "id": "f662d169",
      "metadata": {
        "id": "f662d169"
      },
      "source": [
        "# Exercise: Statistics – sample vs population metrics\n"
      ]
    },
    {
      "cell_type": "markdown",
      "id": "26af890c",
      "metadata": {
        "id": "26af890c"
      },
      "source": [
        "In this notebook, we will present a series of code exercises that will test and enhance your understanding of sample and population metrics, the central limit theorem (CLT), and confidence intervals."
      ]
    },
    {
      "cell_type": "markdown",
      "id": "2d230d14",
      "metadata": {
        "tags": [],
        "id": "2d230d14"
      },
      "source": [
        "## Learning objectives\n",
        "\n",
        "By the end of this notebook, you should be able to:\n",
        "- Differentiate between sample and population metrics.\n",
        "- Understand where the central limit theorem is utilised.\n",
        "- Describe the function and measurement of confidence intervals."
      ]
    },
    {
      "cell_type": "markdown",
      "id": "de45a481",
      "metadata": {
        "id": "de45a481"
      },
      "source": [
        "## Exercises\n",
        "\n",
        "Suppose we are data scientists working for an environmental organisation. Our task is to analyse data related to forest areas across different regions to help formulate conservation strategies. The dataset includes forest areas (in square kilometres) from over 1,000 regions worldwide."
      ]
    },
    {
      "cell_type": "markdown",
      "id": "5a0b7683",
      "metadata": {
        "tags": [],
        "id": "5a0b7683"
      },
      "source": [
        "### Exercise 1\n",
        "\n",
        "We are working with a dataset that contains information about different species found in national parks around the world. The dataset includes data on the number of individual animals of each species found in these parks.\n",
        "\n",
        "Task: Calculate the population mean (`population_mean`) and variance (`population_variance`) of the species count."
      ]
    },
    {
      "cell_type": "code",
      "execution_count": 10,
      "id": "c2ee76ec",
      "metadata": {
        "colab": {
          "base_uri": "https://localhost:8080/"
        },
        "id": "c2ee76ec",
        "outputId": "4ae606fe-0571-49c6-d754-d118a3c4aac8"
      },
      "outputs": [
        {
          "output_type": "stream",
          "name": "stdout",
          "text": [
            "5378.98\n"
          ]
        }
      ],
      "source": [
        "import pandas as pd\n",
        "import numpy as np\n",
        "\n",
        "# Generating random data. Fixed seed for reproducibility\n",
        "np.random.seed(0)\n",
        "forest_areas = np.random.randint(500, 10000, size=1000)  # Forest areas in sq km\n",
        "regions = ['Region' + str(i) for i in range(1, 1001)]\n",
        "\n",
        "# Creating a dictionary\n",
        "data = {'Region': regions, 'Forest_Area': forest_areas}\n",
        "\n",
        "# Converting to a pandas DataFrame\n",
        "df = pd.DataFrame(data)\n",
        "\n",
        "# insert code here\n",
        "# df.head()\n",
        "print(df['Forest_Area'].mean())"
      ]
    },
    {
      "cell_type": "markdown",
      "id": "dc9b7dc6",
      "metadata": {
        "id": "dc9b7dc6"
      },
      "source": [
        "### Exercise 2\n",
        "\n",
        "Select a random sample of 30 regions from the dataset and calculate sample mean and variance. Compare these with population metrics."
      ]
    },
    {
      "cell_type": "code",
      "execution_count": 24,
      "id": "ae48fab0",
      "metadata": {
        "colab": {
          "base_uri": "https://localhost:8080/"
        },
        "id": "ae48fab0",
        "outputId": "a50d882b-cddb-438f-908f-d5cf0814e261"
      },
      "outputs": [
        {
          "output_type": "stream",
          "name": "stdout",
          "text": [
            "Sample mean: 4932.4\n",
            "Sample variance: 5583160.937931035\n"
          ]
        }
      ],
      "source": [
        "# insert code here\n",
        "sample = df.sample(30)\n",
        "sample_mean = sample['Forest_Area'].mean()\n",
        "sample_variance = sample['Forest_Area'].var(ddof=1)\n",
        "\"\"\"\n",
        "What happens:\n",
        "\n",
        "Each time you run this, df.sample(30) selects 30 random rows.\n",
        "\n",
        "Since no random_state is set, the rows chosen will be different every run (because the random number generator starts fresh each time).\n",
        "\n",
        "As a result, sample_mean and sample_variance will also change each time you execute the code.\n",
        "\"\"\"\n",
        "\n",
        "print(\"Sample mean:\", sample_mean)\n",
        "print(\"Sample variance:\", sample_variance)"
      ]
    },
    {
      "cell_type": "code",
      "source": [
        "sample = df.sample(n=30, random_state=42)\n",
        "sample_mean = sample['Forest_Area'].mean()\n",
        "sample_variance = sample['Forest_Area'].var(ddof=1)\n",
        "\"\"\"\n",
        "What happens:\n",
        "\n",
        "df.sample(n=30, random_state=42) selects the same 30 rows every time you run the code.\n",
        "\n",
        "The random number generator is seeded with 42, so the randomness is fixed and reproducible.\n",
        "\n",
        "This means sample_mean and sample_variance will always give the exact same values every run (as long as df doesn’t change).\n",
        "\n",
        "\"\"\"\n",
        "\n",
        "print(\"Sample mean:\", sample_mean)\n",
        "print(\"Sample variance:\", sample_variance)"
      ],
      "metadata": {
        "colab": {
          "base_uri": "https://localhost:8080/"
        },
        "id": "vQa7pnCn3FvG",
        "outputId": "5e765498-18ef-48a4-d774-847cbf22c0bb"
      },
      "id": "vQa7pnCn3FvG",
      "execution_count": 16,
      "outputs": [
        {
          "output_type": "stream",
          "name": "stdout",
          "text": [
            "Sample mean: 5495.7\n",
            "Sample variance: 5197620.975862068\n"
          ]
        }
      ]
    },
    {
      "cell_type": "markdown",
      "id": "07ab1a9d",
      "metadata": {
        "id": "07ab1a9d"
      },
      "source": [
        "### Exercise 3\n",
        "\n",
        "Demonstrate the central limit theorem (CLT) by plotting the distribution of sample means."
      ]
    },
    {
      "cell_type": "code",
      "execution_count": 32,
      "id": "3a13735c",
      "metadata": {
        "colab": {
          "base_uri": "https://localhost:8080/",
          "height": 472
        },
        "id": "3a13735c",
        "outputId": "24819261-fc27-4134-9a5a-2991530c7541"
      },
      "outputs": [
        {
          "output_type": "display_data",
          "data": {
            "text/plain": [
              "<Figure size 640x480 with 1 Axes>"
            ],
            "image/png": "[encoded data removed]"
          },
          "metadata": {}
        }
      ],
      "source": [
        "# insert code here\n",
        "import matplotlib.pyplot as plt\n",
        "plt.hist(sample_mean, bins=10, edgecolor='black')\n",
        "plt.xlabel('Sample Mean')\n",
        "plt.ylabel('Frequency')\n",
        "plt.title('Distribution of Sample Means')\n",
        "plt.show()"
      ]
    },
    {
      "cell_type": "code",
      "source": [
        "# Step 3: Demonstrate CLT\n",
        "sample_size = 30        # sample size\n",
        "num_samples = 1000      # number of samples\n",
        "sample_means = []\n",
        "# Step 2: Population mean\n",
        "population_mean = df['Forest_Area'].mean()\n",
        "\n",
        "for _ in range(num_samples):\n",
        "    sample = df['Forest_Area'].sample(n=sample_size, replace=True)  # bootstrap sampling\n",
        "    sample_means.append(sample.mean())\n",
        "\n",
        "# Step 4: Plot histogram of sample means\n",
        "plt.hist(sample_mean, bins=30, edgecolor='black', alpha=0.7)\n",
        "plt.axvline(population_mean, color='red', linestyle='dashed', linewidth=2, label=f'Population Mean ({population_mean:.2f})')\n",
        "plt.title(f'Distribution of Sample Means (n={sample_size}, {num_samples} samples)')\n",
        "plt.xlabel('Sample Mean')\n",
        "plt.ylabel('Frequency')\n",
        "plt.legend()\n",
        "plt.show()"
      ],
      "metadata": {
        "colab": {
          "base_uri": "https://localhost:8080/",
          "height": 472
        },
        "id": "T5Y-NcU-8dtk",
        "outputId": "c73d4638-6f19-4732-d34a-fb5354669b5c"
      },
      "id": "T5Y-NcU-8dtk",
      "execution_count": 26,
      "outputs": [
        {
          "output_type": "display_data",
          "data": {
            "text/plain": [
              "<Figure size 640x480 with 1 Axes>"
            ],
            "image/png": "[encoded data removed]"
          },
          "metadata": {}
        }
      ]
    },
    {
      "cell_type": "markdown",
      "id": "4a247050",
      "metadata": {
        "id": "4a247050"
      },
      "source": [
        "### Exercise 4\n",
        "\n",
        "Calculate a 95% confidence interval for the mean of a sample."
      ]
    },
    {
      "cell_type": "code",
      "execution_count": 28,
      "id": "c7edcc97",
      "metadata": {
        "colab": {
          "base_uri": "https://localhost:8080/"
        },
        "id": "c7edcc97",
        "outputId": "9eaf664d-1360-467a-f4df-ea21fa5936ef"
      },
      "outputs": [
        {
          "output_type": "stream",
          "name": "stdout",
          "text": [
            "Sample Mean: 5699.23\n",
            "95% Confidence Interval: (4713.69, 6684.78)\n"
          ]
        }
      ],
      "source": [
        "# insert code here\n",
        "import scipy.stats as stats\n",
        "sample_mean = sample.mean()\n",
        "sample_std = sample.std(ddof=1)  # sample standard deviation\n",
        "n = len(sample)\n",
        "confidence_level = 0.95\n",
        "alpha = 1 - confidence_level\n",
        "z_score = stats.norm.ppf(1 - alpha/2)  # 1.96 for 95% CI\n",
        "\n",
        "margin_of_error = z_score * (sample_std / np.sqrt(n))\n",
        "ci_lower = sample_mean - margin_of_error\n",
        "ci_upper = sample_mean + margin_of_error\n",
        "\n",
        "print(f\"Sample Mean: {sample_mean:.2f}\")\n",
        "print(f\"95% Confidence Interval: ({ci_lower:.2f}, {ci_upper:.2f})\")"
      ]
    },
    {
      "cell_type": "markdown",
      "id": "555dea0d",
      "metadata": {
        "id": "555dea0d"
      },
      "source": [
        "## Solutions"
      ]
    },
    {
      "cell_type": "markdown",
      "id": "9ff8f391",
      "metadata": {
        "id": "9ff8f391"
      },
      "source": [
        "### Exercise 1\n",
        "\n",
        "The population mean and variance are calculated on the entire dataset. Here, `ddof=0` is used in variance calculation since it's the population variance.\n"
      ]
    },
    {
      "cell_type": "code",
      "execution_count": 29,
      "id": "ad52ad95",
      "metadata": {
        "colab": {
          "base_uri": "https://localhost:8080/"
        },
        "id": "ad52ad95",
        "outputId": "56d8ebee-5ecc-4235-d18c-7079e0e84b78"
      },
      "outputs": [
        {
          "output_type": "stream",
          "name": "stdout",
          "text": [
            "Population Mean: 5378.98\n",
            "Population Variance: 7517438.4416000135\n"
          ]
        }
      ],
      "source": [
        "# Calculate the population_mean and population_variance\n",
        "population_mean = df['Forest_Area'].mean()\n",
        "population_variance = df['Forest_Area'].var(ddof=0)\n",
        "\n",
        "print(\"Population Mean:\", population_mean)\n",
        "print(\"Population Variance:\", population_variance)"
      ]
    },
    {
      "cell_type": "markdown",
      "id": "a10363b6",
      "metadata": {
        "id": "a10363b6"
      },
      "source": [
        "### Exercise 2"
      ]
    },
    {
      "cell_type": "code",
      "execution_count": 30,
      "id": "09386d51",
      "metadata": {
        "colab": {
          "base_uri": "https://localhost:8080/"
        },
        "id": "09386d51",
        "outputId": "623026b2-7ff8-4671-ad28-3a97fe35639d"
      },
      "outputs": [
        {
          "output_type": "stream",
          "name": "stdout",
          "text": [
            "Sample mean: 5441.7\n",
            "Sample variance: 6877409.9413793115\n",
            "\n",
            "Comparison:\n",
            "Difference in means: -62.720000000000255\n",
            "Difference in variances: 640028.500220702\n"
          ]
        }
      ],
      "source": [
        "# Select a random sample of 30 regions and calculate sample metrics\n",
        "sample = df.sample(30)\n",
        "sample_mean = sample['Forest_Area'].mean()\n",
        "sample_variance = sample['Forest_Area'].var(ddof=1)\n",
        "\n",
        "print(\"Sample mean:\", sample_mean)\n",
        "print(\"Sample variance:\", sample_variance)\n",
        "\n",
        "# Comparison with Population Metrics\n",
        "print(\"\\nComparison:\")\n",
        "print(\"Difference in means:\", population_mean - sample_mean)\n",
        "print(\"Difference in variances:\", population_variance - sample_variance)\n"
      ]
    },
    {
      "cell_type": "markdown",
      "id": "ff325262",
      "metadata": {
        "id": "ff325262"
      },
      "source": [
        "In the code snippet above:\n",
        "* `df.sample(30)` randomly picks 30 entries from the DataFrame `df`. This subset represents a sample of the entire population (all regions in the dataset).\n",
        "* `sample_mean` is the average forest area across the 30 randomly selected regions.\n",
        "* `sample_variance` measures how much the forest areas in our sample vary or spread out from the sample mean. The parameter `ddof=1` (degrees of freedom) is used here to make the variance estimate unbiased.\n",
        "* When calculating variance for a sample, dividing by `N-1` (where `N` is the sample size) instead of `N` corrects for the fact that we are working with a sample, not the entire population. This adjustment is known as **Bessel's correction**.\n",
        "* **Difference in means** is the difference between the population mean and the sample mean. It shows how the average forest area of our sample compares to the average forest area of the entire dataset.\n",
        "* **Difference in variances** is the difference between the population variance and the sample variance. It indicates how the variability of forest areas in our sample compares to the variability in the entire dataset."
      ]
    },
    {
      "cell_type": "markdown",
      "id": "23216513",
      "metadata": {
        "id": "23216513"
      },
      "source": [
        "### Exercise 3"
      ]
    },
    {
      "cell_type": "code",
      "execution_count": 31,
      "id": "0df8e68d",
      "metadata": {
        "colab": {
          "base_uri": "https://localhost:8080/",
          "height": 472
        },
        "id": "0df8e68d",
        "outputId": "bf2884ad-e35f-4573-c6ea-1da377beb044"
      },
      "outputs": [
        {
          "output_type": "display_data",
          "data": {
            "text/plain": [
              "<Figure size 640x480 with 1 Axes>"
            ],
            "image/png": "[encoded data removed]"
          },
          "metadata": {}
        }
      ],
      "source": [
        "import matplotlib.pyplot as plt\n",
        "\n",
        "# Take 100 samples of size 30 and plot their mean distribution\n",
        "sample_means = [df['Forest_Area'].sample(30).mean() for _ in range(100)]\n",
        "\n",
        "plt.hist(sample_means, bins=10, edgecolor='black')\n",
        "plt.xlabel('Sample Mean')\n",
        "plt.ylabel('Frequency')\n",
        "plt.title('Distribution of Sample Means')\n",
        "plt.show()\n"
      ]
    },
    {
      "cell_type": "markdown",
      "id": "a8bbc13f",
      "metadata": {
        "id": "a8bbc13f"
      },
      "source": [
        "The distribution of sample means will approximate a normal distribution, as evidenced by the histogram, even if the population distribution is not normal."
      ]
    },
    {
      "cell_type": "markdown",
      "id": "e9956efe",
      "metadata": {
        "tags": [],
        "id": "e9956efe"
      },
      "source": [
        "### Exercise 4"
      ]
    },
    {
      "cell_type": "code",
      "execution_count": null,
      "id": "2e43b6e8",
      "metadata": {
        "id": "2e43b6e8"
      },
      "outputs": [],
      "source": [
        "import scipy.stats as stats\n",
        "\n",
        "# Select a sample (reuse sample from Exercise 2 or select a new one)\n",
        "sample_data = sample['Forest_Area']\n",
        "\n",
        "# Calculate 95% confidence interval for the sample mean\n",
        "mean = np.mean(sample_data)\n",
        "standard_error = stats.sem(sample_data)\n",
        "confidence_level = 0.95\n",
        "degrees_freedom = len(sample_data) - 1\n",
        "confidence_interval = stats.t.interval(confidence_level, degrees_freedom, mean, standard_error)\n",
        "\n",
        "print(\"95% Confidence Interval:\", confidence_interval)\n"
      ]
    },
    {
      "cell_type": "markdown",
      "id": "26fd094b-0fee-46f1-a4b8-73766813c42b",
      "metadata": {
        "tags": [],
        "id": "26fd094b-0fee-46f1-a4b8-73766813c42b"
      },
      "source": [
        "#  \n",
        "\n",
        "<div align=\"center\" style=\" font-size: 80%; text-align: center; margin: 0 auto\">\n",
        "<img src=\"https://raw.githubusercontent.com/Explore-AI/Pictures/refs/heads/master/ALX_banners/ALX_Navy.png\"  style=\"width:140px\";/>\n",
        "</div>"
      ]
    }
  ],
  "metadata": {
    "kernelspec": {
      "display_name": "Python 3 (ipykernel)",
      "language": "python",
      "name": "python3"
    },
    "language_info": {
      "codemirror_mode": {
        "name": "ipython",
        "version": 3
      },
      "file_extension": ".py",
      "mimetype": "text/x-python",
      "name": "python",
      "nbconvert_exporter": "python",
      "pygments_lexer": "ipython3",
      "version": "3.11.4"
    },
    "colab": {
      "provenance": [],
      "include_colab_link": true
    }
  },
  "nbformat": 4,
  "nbformat_minor": 5
}