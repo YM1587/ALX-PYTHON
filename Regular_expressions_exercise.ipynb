{
  "cells": [
    {
      "cell_type": "markdown",
      "metadata": {
        "id": "view-in-github",
        "colab_type": "text"
      },
      "source": [
        "<a href=\"https://colab.research.google.com/github/YM1587/ALX-PYTHON/blob/main/Regular_expressions_exercise.ipynb\" target=\"_parent\"><img src=\"https://colab.research.google.com/assets/colab-badge.svg\" alt=\"Open In Colab\"/></a>"
      ]
    },
    {
      "cell_type": "markdown",
      "id": "cd88ea27",
      "metadata": {
        "id": "cd88ea27"
      },
      "source": [
        "<div align=\"center\" style=\" font-size: 80%; text-align: center; margin: 0 auto\">\n",
        "<img src=\"https://raw.githubusercontent.com/Explore-AI/Pictures/master/Python-Notebook-Banners/Exercise.png\"  style=\"display: block; margin-left: auto; margin-right: auto;\";/>\n",
        "</div>"
      ]
    },
    {
      "cell_type": "markdown",
      "id": "f662d169",
      "metadata": {
        "id": "f662d169"
      },
      "source": [
        "# Exercise: Regular expressions\n"
      ]
    },
    {
      "cell_type": "markdown",
      "id": "26af890c",
      "metadata": {
        "id": "26af890c"
      },
      "source": [
        "In this notebook, we test some of the concepts we've learned for regular expressions."
      ]
    },
    {
      "cell_type": "markdown",
      "id": "2d230d14",
      "metadata": {
        "tags": [],
        "id": "2d230d14"
      },
      "source": [
        "## Learning objectives\n",
        "\n",
        "In this train, we will:\n",
        "- Reinforce the understanding of basic regular expression syntax and special characters in Python.\n",
        "- Demonstrate the ability to apply regular expression methods in Python."
      ]
    },
    {
      "cell_type": "markdown",
      "id": "de45a481",
      "metadata": {
        "id": "de45a481"
      },
      "source": [
        "## Exercises\n",
        "\n",
        "You have been tasked with a data science project where the goal is to analyse social media posts related to forest conservation. The project involves extracting specific information from the compilation of social media posts below."
      ]
    },
    {
      "cell_type": "code",
      "execution_count": 1,
      "id": "34324db1",
      "metadata": {
        "id": "34324db1"
      },
      "outputs": [],
      "source": [
        "social_media_posts = \"\"\"\n",
        "Great news! The GreenWood Project has successfully planted 10000 trees in the Amazon Rainforest #GreenEarth #Conservation\n",
        "Update: ForestCoverApp shows a 12% increase in forest cover in the last 5 years. #TechForGood\n",
        "Sad to see illegal logging in Madagascan rainforests. We need stricter laws! #SaveForests #ActNow\n",
        "Celebrating World Environment Day with a pledge to plant 20000 trees. Join us! #EnvironmentDay #GoGreen\n",
        "Interesting study published in NatureJournal: Rainforest biodiversity is crucial for ecological balance. #ScienceForNature\n",
        "\"\"\""
      ]
    },
    {
      "cell_type": "markdown",
      "id": "5a0b7683",
      "metadata": {
        "tags": [],
        "id": "5a0b7683"
      },
      "source": [
        "### Exercise 1\n",
        "\n",
        "**Scenario**: Your first task is to analyse the hashtags used in these posts, as they can give insights into popular environmental campaigns.\n",
        "\n",
        "**Exercise**: Write a Python function called `extract_hashtags` to extract all unique hashtags from the social media posts."
      ]
    },
    {
      "cell_type": "code",
      "execution_count": 2,
      "id": "c2ee76ec",
      "metadata": {
        "colab": {
          "base_uri": "https://localhost:8080/"
        },
        "id": "c2ee76ec",
        "outputId": "0b82db66-2f0a-4145-8783-f46daab6973a"
      },
      "outputs": [
        {
          "output_type": "stream",
          "name": "stdout",
          "text": [
            "{'#TechForGood', '#EnvironmentDay', '#GoGreen', '#ScienceForNature', '#SaveForests', '#GreenEarth', '#ActNow', '#Conservation'}\n"
          ]
        }
      ],
      "source": [
        "# insert code here\n",
        "import re\n",
        "\n",
        "def extract_hashtags(text):\n",
        "    pattern = r'#\\w+'\n",
        "    hashtags = re.findall(pattern, text)\n",
        "    return set(hashtags)  # Using a set to get unique hashtags\n",
        "\n",
        "# Test with the provided text\n",
        "print(extract_hashtags(social_media_posts))"
      ]
    },
    {
      "cell_type": "markdown",
      "id": "dc9b7dc6",
      "metadata": {
        "id": "dc9b7dc6"
      },
      "source": [
        "### Exercise 2\n",
        "\n",
        "**Scenario**: You want to quantify the impact of these conservation efforts. For this, extracting numerical data from the posts will be helpful.\n",
        "\n",
        "**Exercise**: Write a Python function called `extract_numbers` to find all numbers mentioned in the posts.\n"
      ]
    },
    {
      "cell_type": "code",
      "execution_count": 3,
      "id": "ae48fab0",
      "metadata": {
        "colab": {
          "base_uri": "https://localhost:8080/"
        },
        "id": "ae48fab0",
        "outputId": "b16b236b-22c2-446e-aee1-a71712605f45"
      },
      "outputs": [
        {
          "output_type": "stream",
          "name": "stdout",
          "text": [
            "['10000', '12', '5', '20000']\n"
          ]
        }
      ],
      "source": [
        "# insert code here\n",
        "import re\n",
        "def extract_numbers(text):\n",
        "    pattern = r'\\b\\d+\\b'\n",
        "    return re.findall(pattern, text)\n",
        "\n",
        "# Test with the provided text\n",
        "print(extract_numbers(social_media_posts))"
      ]
    },
    {
      "cell_type": "markdown",
      "id": "b2c8450c",
      "metadata": {
        "id": "b2c8450c"
      },
      "source": [
        "### Exercise 3\n",
        "\n",
        "**Scenario**: To understand public sentiment, you need to count how often words related to negative impacts (like \"illegal\", \"logging\") appear.\n",
        "\n",
        "**Exercise**: Write a function called `count_specific_words` to count the occurrences of the words \"illegal\" and \"logging\" in the posts."
      ]
    },
    {
      "cell_type": "code",
      "execution_count": 5,
      "id": "76aa8292",
      "metadata": {
        "colab": {
          "base_uri": "https://localhost:8080/"
        },
        "id": "76aa8292",
        "outputId": "d8a6f919-5837-4abf-82bd-709f94e4eeb5"
      },
      "outputs": [
        {
          "output_type": "stream",
          "name": "stdout",
          "text": [
            "['illegal', 'logging']\n"
          ]
        }
      ],
      "source": [
        "# insert code here\n",
        "import re\n",
        "def count_specific_words(text):\n",
        "    pattern = r'\\billegal\\b|\\blogging\\b'\n",
        "    return len(re.findall(pattern, text))\n",
        "    # return re.findall(pattern, text)\n",
        "\n",
        "# Test with the provided text\n",
        "print(count_specific_words(social_media_posts))"
      ]
    },
    {
      "cell_type": "markdown",
      "id": "bbce254f",
      "metadata": {
        "id": "bbce254f"
      },
      "source": [
        "### Exercise 4\n",
        "\n",
        "**Scenario**: For geographical analysis, you need to extract mentioned locations such as \"Amazon Rainforest\" and \"Madagascan rainforests\".\n",
        "\n",
        "**Exercise**: Write a function to extract proper names that refer to locations."
      ]
    },
    {
      "cell_type": "code",
      "execution_count": 8,
      "id": "71a2cedc",
      "metadata": {
        "colab": {
          "base_uri": "https://localhost:8080/"
        },
        "id": "71a2cedc",
        "outputId": "35d502f1-9787-44be-f265-f22325c23fad"
      },
      "outputs": [
        {
          "output_type": "stream",
          "name": "stdout",
          "text": [
            "['Amazon Rainforest', 'Madagascan rainforests']\n"
          ]
        }
      ],
      "source": [
        "# insert code here\n",
        "import re\n",
        "def extract_locations(text):\n",
        "  pattern  = r'\\b[A-Z][a-z]+(?:\\s[A-Z][a-z]+)*(?:\\s[rR]ainforests?)?\\b'\n",
        "  potential_locations = re.findall(pattern, text)\n",
        "  locations = [loc for loc in potential_locations if not loc.endswith(':') and 'rainforest' in loc.lower() and loc != 'Rainforest']\n",
        "  return locations\n",
        "\n",
        "# Test with the provided text\n",
        "print(extract_locations(social_media_posts))"
      ]
    },
    {
      "cell_type": "markdown",
      "id": "555dea0d",
      "metadata": {
        "id": "555dea0d"
      },
      "source": [
        "## Solutions"
      ]
    },
    {
      "cell_type": "markdown",
      "id": "9ff8f391",
      "metadata": {
        "id": "9ff8f391"
      },
      "source": [
        "### Exercise 1\n",
        "\n",
        "The regular expression `#\\w+` matches any word `(\\w+)` that follows the `'#'` character, capturing hashtags.\n"
      ]
    },
    {
      "cell_type": "code",
      "execution_count": null,
      "id": "ad52ad95",
      "metadata": {
        "id": "ad52ad95"
      },
      "outputs": [],
      "source": [
        "import re\n",
        "\n",
        "def extract_hashtags(text):\n",
        "    pattern = r'#\\w+'\n",
        "    hashtags = re.findall(pattern, text)\n",
        "    return set(hashtags)  # Using a set to get unique hashtags\n",
        "\n",
        "# Test with the provided text\n",
        "print(extract_hashtags(social_media_posts))\n"
      ]
    },
    {
      "cell_type": "markdown",
      "id": "a10363b6",
      "metadata": {
        "id": "a10363b6"
      },
      "source": [
        "### Exercise 2\n",
        "\n",
        "The regex `\\b\\d+\\b` matches whole numbers `(\\d+)` that appear as separate words (bounded by `\\b`).\n"
      ]
    },
    {
      "cell_type": "code",
      "execution_count": null,
      "id": "09386d51",
      "metadata": {
        "id": "09386d51"
      },
      "outputs": [],
      "source": [
        "def extract_numbers(text):\n",
        "    pattern = r'\\b\\d+\\b'\n",
        "    return re.findall(pattern, text)\n",
        "\n",
        "# Test with the provided text\n",
        "print(extract_numbers(social_media_posts))"
      ]
    },
    {
      "cell_type": "markdown",
      "id": "03e53ecc",
      "metadata": {
        "id": "03e53ecc"
      },
      "source": [
        "### Exercise 3\n",
        "\n",
        "The regex `\\billegal\\b|\\blogging\\b` uses the alternation operator `|` to match either \"illegal\" or \"logging\", each as a separate word."
      ]
    },
    {
      "cell_type": "code",
      "execution_count": null,
      "id": "d48b205c",
      "metadata": {
        "id": "d48b205c"
      },
      "outputs": [],
      "source": [
        "def count_specific_words(text):\n",
        "    pattern = r'\\billegal\\b|\\blogging\\b'\n",
        "    return len(re.findall(pattern, text))\n",
        "\n",
        "# Test with the provided text\n",
        "print(count_specific_words(social_media_posts))"
      ]
    },
    {
      "cell_type": "markdown",
      "id": "63ad6c22",
      "metadata": {
        "id": "63ad6c22"
      },
      "source": [
        "### Exercise 4\n",
        "1. **Regular expression pattern**: The regex `\\b[A-Z][a-z]+(?:\\s[A-Z][a-z]+)*(?:\\s[rR]ainforests?)?\\b` is designed to capture phrases that typically represent location names. It starts by matching any word that begins with a capital letter, which is common for proper nouns such as place names. The pattern allows for additional capitalised words to form multi-word names. The optional part `(?:\\s[rR]ainforests?)?` is included to specifically capture terms like \"rainforest\" or \"rainforests\", which are relevant in the environmental context of our dataset.\n",
        "\n",
        "2. **Filtering out false positives**: Chances are that the solution will include false positives like the standalone word \"Rainforest\". This would happen because the regex is general enough to capture any capitalised word, and \"Rainforest\" appeared in the text as part of a hashtag, which could lead to its unintended inclusion. To rectify this, we've added specific conditions in the filtering process:\n",
        "   * not `loc.endswith(':')` excludes matches that end with a colon, as these are more likely to be hashtags or other non-location elements.\n",
        "   * `'rainforest' in loc.lower()` ensures the phrase includes \"rainforest\" or \"Rainforest\", keeping the focus on relevant environmental terms.\n",
        "   * `loc != 'Rainforest'` explicitly excludes the standalone word \"Rainforest\" to avoid this specific false positive."
      ]
    },
    {
      "cell_type": "code",
      "execution_count": 7,
      "id": "48c02611",
      "metadata": {
        "colab": {
          "base_uri": "https://localhost:8080/"
        },
        "id": "48c02611",
        "outputId": "4f2d4a38-45d6-40e2-d3ff-d0f2a0c2fbd4"
      },
      "outputs": [
        {
          "output_type": "stream",
          "name": "stdout",
          "text": [
            "['Amazon Rainforest', 'Madagascan rainforests']\n"
          ]
        }
      ],
      "source": [
        "def extract_locations(text):\n",
        "    # Regular expression to match potential location names\n",
        "    pattern = r'\\b[A-Z][a-z]+(?:\\s[A-Z][a-z]+)*(?:\\s[rR]ainforests?)?\\b'\n",
        "\n",
        "    # Find all matches\n",
        "    potential_locations = re.findall(pattern, text)\n",
        "\n",
        "    # Filtering based on context and avoiding false positives\n",
        "    locations = [loc for loc in potential_locations if not loc.endswith(':') and 'rainforest' in loc.lower() and loc != 'Rainforest']\n",
        "\n",
        "    return locations\n",
        "\n",
        "# Test with the provided text\n",
        "print(extract_locations(social_media_posts))\n"
      ]
    },
    {
      "cell_type": "markdown",
      "id": "26fd094b-0fee-46f1-a4b8-73766813c42b",
      "metadata": {
        "tags": [],
        "id": "26fd094b-0fee-46f1-a4b8-73766813c42b"
      },
      "source": [
        "#  \n",
        "\n",
        "<div align=\"center\" style=\" font-size: 80%; text-align: center; margin: 0 auto\">\n",
        "<img src=\"https://raw.githubusercontent.com/Explore-AI/Pictures/refs/heads/master/ALX_banners/ALX_Navy.png\"  style=\"width:140px\";/>\n",
        "</div>"
      ]
    }
  ],
  "metadata": {
    "kernelspec": {
      "display_name": "Python 3 (ipykernel)",
      "language": "python",
      "name": "python3"
    },
    "language_info": {
      "codemirror_mode": {
        "name": "ipython",
        "version": 3
      },
      "file_extension": ".py",
      "mimetype": "text/x-python",
      "name": "python",
      "nbconvert_exporter": "python",
      "pygments_lexer": "ipython3",
      "version": "3.9.6"
    },
    "colab": {
      "provenance": [],
      "include_colab_link": true
    }
  },
  "nbformat": 4,
  "nbformat_minor": 5
}